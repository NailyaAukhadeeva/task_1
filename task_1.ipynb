{
 "cells": [
  {
   "cell_type": "markdown",
   "id": "f8f2818e",
   "metadata": {},
   "source": [
    "# Задание №1"
   ]
  },
  {
   "cell_type": "code",
   "execution_count": 1,
   "id": "d8ae3665",
   "metadata": {},
   "outputs": [],
   "source": [
    "import pandas as pd\n",
    "import datetime\n",
    "from datetime import datetime\n",
    "import locale # используем для написания месяца на русском яз."
   ]
  },
  {
   "cell_type": "code",
   "execution_count": 2,
   "id": "d61c29e4",
   "metadata": {},
   "outputs": [],
   "source": [
    "#сохраним в переменные путь к файлу и лист excel, с которым далее будем работать\n",
    "path = '/Users/naukh/Тестовые АД/Задание 1.xlsx'\n",
    "sheet = 'Данные от врачей'"
   ]
  },
  {
   "cell_type": "code",
   "execution_count": 3,
   "id": "0356eb8e",
   "metadata": {},
   "outputs": [],
   "source": [
    "excel_data_df = pd.read_excel(path, sheet_name=sheet)"
   ]
  },
  {
   "cell_type": "code",
   "execution_count": 4,
   "id": "12454666",
   "metadata": {},
   "outputs": [
    {
     "data": {
      "text/html": [
       "<div>\n",
       "<style scoped>\n",
       "    .dataframe tbody tr th:only-of-type {\n",
       "        vertical-align: middle;\n",
       "    }\n",
       "\n",
       "    .dataframe tbody tr th {\n",
       "        vertical-align: top;\n",
       "    }\n",
       "\n",
       "    .dataframe thead th {\n",
       "        text-align: right;\n",
       "    }\n",
       "</style>\n",
       "<table border=\"1\" class=\"dataframe\">\n",
       "  <thead>\n",
       "    <tr style=\"text-align: right;\">\n",
       "      <th></th>\n",
       "      <th>ФИО</th>\n",
       "      <th>ДР</th>\n",
       "      <th>Дата Осмотра</th>\n",
       "      <th>Состояние</th>\n",
       "    </tr>\n",
       "  </thead>\n",
       "  <tbody>\n",
       "    <tr>\n",
       "      <th>0</th>\n",
       "      <td>ФОМИЧЕВ ГОРДЕЙ НАУМОВИЧ</td>\n",
       "      <td>2000-02-13 00:00:00</td>\n",
       "      <td>2020-10-10</td>\n",
       "      <td>Болен\\n</td>\n",
       "    </tr>\n",
       "    <tr>\n",
       "      <th>1</th>\n",
       "      <td>ХАРИТОНОВА ВЕРОНИКА ТАРАСОВНА</td>\n",
       "      <td>1977-11-07 00:00:00</td>\n",
       "      <td>2020-10-10</td>\n",
       "      <td>здоров</td>\n",
       "    </tr>\n",
       "    <tr>\n",
       "      <th>2</th>\n",
       "      <td>Сорокина Амелия Тимофеевна</td>\n",
       "      <td>12.09.1978</td>\n",
       "      <td>2020-10-10</td>\n",
       "      <td>здоров</td>\n",
       "    </tr>\n",
       "    <tr>\n",
       "      <th>3</th>\n",
       "      <td>Тарасов Гавриил Тихонович</td>\n",
       "      <td>1942-04-11 00:00:00</td>\n",
       "      <td>2020-10-20</td>\n",
       "      <td>Болен\\n</td>\n",
       "    </tr>\n",
       "    <tr>\n",
       "      <th>4</th>\n",
       "      <td>Завьялова Елена Степановна</td>\n",
       "      <td>2002-09-11 00:00:00</td>\n",
       "      <td>2020-10-20</td>\n",
       "      <td>болен</td>\n",
       "    </tr>\n",
       "  </tbody>\n",
       "</table>\n",
       "</div>"
      ],
      "text/plain": [
       "                             ФИО                   ДР Дата Осмотра Состояние\n",
       "0        ФОМИЧЕВ ГОРДЕЙ НАУМОВИЧ  2000-02-13 00:00:00   2020-10-10   Болен\\n\n",
       "1  ХАРИТОНОВА ВЕРОНИКА ТАРАСОВНА  1977-11-07 00:00:00   2020-10-10   здоров \n",
       "2     Сорокина Амелия Тимофеевна           12.09.1978   2020-10-10   здоров \n",
       "3      Тарасов Гавриил Тихонович  1942-04-11 00:00:00   2020-10-20   Болен\\n\n",
       "4     Завьялова Елена Степановна  2002-09-11 00:00:00   2020-10-20     болен"
      ]
     },
     "execution_count": 4,
     "metadata": {},
     "output_type": "execute_result"
    }
   ],
   "source": [
    "# посмотрим что получилось, чтобы выявить ошибки\n",
    "excel_data_df.head(5)"
   ]
  },
  {
   "cell_type": "code",
   "execution_count": 5,
   "id": "56e6e706",
   "metadata": {},
   "outputs": [
    {
     "data": {
      "text/plain": [
       "ФИО             0\n",
       "ДР              0\n",
       "Дата Осмотра    0\n",
       "Состояние       0\n",
       "dtype: int64"
      ]
     },
     "execution_count": 5,
     "metadata": {},
     "output_type": "execute_result"
    }
   ],
   "source": [
    "# Nan нет, работаем дальше значений нет\n",
    "excel_data_df.isna().sum()"
   ]
  },
  {
   "cell_type": "code",
   "execution_count": 6,
   "id": "3fb3eaf5",
   "metadata": {},
   "outputs": [
    {
     "data": {
      "text/plain": [
       "ФИО                     object\n",
       "ДР                      object\n",
       "Дата Осмотра    datetime64[ns]\n",
       "Состояние               object\n",
       "dtype: object"
      ]
     },
     "execution_count": 6,
     "metadata": {},
     "output_type": "execute_result"
    }
   ],
   "source": [
    "# посмотрели тип данных, однозначно ДР не в том формате\n",
    "excel_data_df.dtypes"
   ]
  },
  {
   "cell_type": "code",
   "execution_count": 7,
   "id": "bc33eed4",
   "metadata": {},
   "outputs": [
    {
     "data": {
      "text/plain": [
       "(33477, 4)"
      ]
     },
     "execution_count": 7,
     "metadata": {},
     "output_type": "execute_result"
    }
   ],
   "source": [
    "#размер таблицы. Дальше будем использовать для контроля\n",
    "excel_data_df.shape"
   ]
  },
  {
   "cell_type": "code",
   "execution_count": 8,
   "id": "b09c2ada",
   "metadata": {},
   "outputs": [
    {
     "data": {
      "text/html": [
       "<div>\n",
       "<style scoped>\n",
       "    .dataframe tbody tr th:only-of-type {\n",
       "        vertical-align: middle;\n",
       "    }\n",
       "\n",
       "    .dataframe tbody tr th {\n",
       "        vertical-align: top;\n",
       "    }\n",
       "\n",
       "    .dataframe thead th {\n",
       "        text-align: right;\n",
       "    }\n",
       "</style>\n",
       "<table border=\"1\" class=\"dataframe\">\n",
       "  <thead>\n",
       "    <tr style=\"text-align: right;\">\n",
       "      <th></th>\n",
       "      <th>ФИО</th>\n",
       "      <th>ДР</th>\n",
       "      <th>Дата Осмотра</th>\n",
       "      <th>Состояние</th>\n",
       "    </tr>\n",
       "  </thead>\n",
       "  <tbody>\n",
       "  </tbody>\n",
       "</table>\n",
       "</div>"
      ],
      "text/plain": [
       "Empty DataFrame\n",
       "Columns: [ФИО, ДР, Дата Осмотра, Состояние]\n",
       "Index: []"
      ]
     },
     "execution_count": 8,
     "metadata": {},
     "output_type": "execute_result"
    }
   ],
   "source": [
    "# проверим данные на дубли\n",
    "excel_data_df.loc[excel_data_df.duplicated()]"
   ]
  },
  {
   "cell_type": "markdown",
   "id": "b9f253dd",
   "metadata": {},
   "source": [
    "### Преобразование данных в колонке \"ФИО\""
   ]
  },
  {
   "cell_type": "markdown",
   "id": "1dde1971",
   "metadata": {},
   "source": [
    "Поработаем ФИО (разбить по столбцам, привести к одному виду, убрать лишние пробелы и '\\n');"
   ]
  },
  {
   "cell_type": "code",
   "execution_count": 9,
   "id": "59f4e194",
   "metadata": {},
   "outputs": [],
   "source": [
    "#Скопируем df в новый, всегда будет с чем сравнить выполненные модификации. Пришлось сделать глубокую копию, поскольку  \n",
    "#модификации нового df затрагивали данные старого\n",
    "excel_data_df_mod = excel_data_df.copy(deep=True)"
   ]
  },
  {
   "cell_type": "code",
   "execution_count": 10,
   "id": "8d9ea66a",
   "metadata": {},
   "outputs": [
    {
     "data": {
      "text/html": [
       "<div>\n",
       "<style scoped>\n",
       "    .dataframe tbody tr th:only-of-type {\n",
       "        vertical-align: middle;\n",
       "    }\n",
       "\n",
       "    .dataframe tbody tr th {\n",
       "        vertical-align: top;\n",
       "    }\n",
       "\n",
       "    .dataframe thead th {\n",
       "        text-align: right;\n",
       "    }\n",
       "</style>\n",
       "<table border=\"1\" class=\"dataframe\">\n",
       "  <thead>\n",
       "    <tr style=\"text-align: right;\">\n",
       "      <th></th>\n",
       "      <th>ФИО</th>\n",
       "      <th>ДР</th>\n",
       "      <th>Дата Осмотра</th>\n",
       "      <th>Состояние</th>\n",
       "    </tr>\n",
       "  </thead>\n",
       "  <tbody>\n",
       "    <tr>\n",
       "      <th>0</th>\n",
       "      <td>ФОМИЧЕВ ГОРДЕЙ НАУМОВИЧ</td>\n",
       "      <td>2000-02-13 00:00:00</td>\n",
       "      <td>2020-10-10</td>\n",
       "      <td>Болен\\n</td>\n",
       "    </tr>\n",
       "    <tr>\n",
       "      <th>1</th>\n",
       "      <td>ХАРИТОНОВА ВЕРОНИКА ТАРАСОВНА</td>\n",
       "      <td>1977-11-07 00:00:00</td>\n",
       "      <td>2020-10-10</td>\n",
       "      <td>здоров</td>\n",
       "    </tr>\n",
       "    <tr>\n",
       "      <th>2</th>\n",
       "      <td>Сорокина Амелия Тимофеевна</td>\n",
       "      <td>12.09.1978</td>\n",
       "      <td>2020-10-10</td>\n",
       "      <td>здоров</td>\n",
       "    </tr>\n",
       "    <tr>\n",
       "      <th>3</th>\n",
       "      <td>Тарасов Гавриил Тихонович</td>\n",
       "      <td>1942-04-11 00:00:00</td>\n",
       "      <td>2020-10-20</td>\n",
       "      <td>Болен\\n</td>\n",
       "    </tr>\n",
       "    <tr>\n",
       "      <th>4</th>\n",
       "      <td>Завьялова Елена Степановна</td>\n",
       "      <td>2002-09-11 00:00:00</td>\n",
       "      <td>2020-10-20</td>\n",
       "      <td>болен</td>\n",
       "    </tr>\n",
       "  </tbody>\n",
       "</table>\n",
       "</div>"
      ],
      "text/plain": [
       "                             ФИО                   ДР Дата Осмотра Состояние\n",
       "0        ФОМИЧЕВ ГОРДЕЙ НАУМОВИЧ  2000-02-13 00:00:00   2020-10-10   Болен\\n\n",
       "1  ХАРИТОНОВА ВЕРОНИКА ТАРАСОВНА  1977-11-07 00:00:00   2020-10-10   здоров \n",
       "2     Сорокина Амелия Тимофеевна           12.09.1978   2020-10-10   здоров \n",
       "3      Тарасов Гавриил Тихонович  1942-04-11 00:00:00   2020-10-20   Болен\\n\n",
       "4     Завьялова Елена Степановна  2002-09-11 00:00:00   2020-10-20     болен"
      ]
     },
     "execution_count": 10,
     "metadata": {},
     "output_type": "execute_result"
    }
   ],
   "source": [
    "excel_data_df_mod.head(5)"
   ]
  },
  {
   "cell_type": "code",
   "execution_count": 11,
   "id": "c3cdc6c0",
   "metadata": {},
   "outputs": [],
   "source": [
    "# Убрала переносы, пробелы в начале и конце строки, привела к одному виду вывод, рассплитовала по пробелу (получился список)\n",
    "excel_data_df_mod['ФИО'] = excel_data_df_mod['ФИО']. \\\n",
    "                                    apply(lambda x: x.replace(\"/n'\",''). \\\n",
    "                                    strip().upper().split()) "
   ]
  },
  {
   "cell_type": "code",
   "execution_count": 12,
   "id": "77b40629",
   "metadata": {},
   "outputs": [
    {
     "data": {
      "text/html": [
       "<div>\n",
       "<style scoped>\n",
       "    .dataframe tbody tr th:only-of-type {\n",
       "        vertical-align: middle;\n",
       "    }\n",
       "\n",
       "    .dataframe tbody tr th {\n",
       "        vertical-align: top;\n",
       "    }\n",
       "\n",
       "    .dataframe thead th {\n",
       "        text-align: right;\n",
       "    }\n",
       "</style>\n",
       "<table border=\"1\" class=\"dataframe\">\n",
       "  <thead>\n",
       "    <tr style=\"text-align: right;\">\n",
       "      <th></th>\n",
       "      <th>ФИО</th>\n",
       "      <th>ДР</th>\n",
       "      <th>Дата Осмотра</th>\n",
       "      <th>Состояние</th>\n",
       "    </tr>\n",
       "  </thead>\n",
       "  <tbody>\n",
       "    <tr>\n",
       "      <th>0</th>\n",
       "      <td>[ФОМИЧЕВ, ГОРДЕЙ, НАУМОВИЧ]</td>\n",
       "      <td>2000-02-13 00:00:00</td>\n",
       "      <td>2020-10-10</td>\n",
       "      <td>Болен\\n</td>\n",
       "    </tr>\n",
       "    <tr>\n",
       "      <th>1</th>\n",
       "      <td>[ХАРИТОНОВА, ВЕРОНИКА, ТАРАСОВНА]</td>\n",
       "      <td>1977-11-07 00:00:00</td>\n",
       "      <td>2020-10-10</td>\n",
       "      <td>здоров</td>\n",
       "    </tr>\n",
       "    <tr>\n",
       "      <th>2</th>\n",
       "      <td>[СОРОКИНА, АМЕЛИЯ, ТИМОФЕЕВНА]</td>\n",
       "      <td>12.09.1978</td>\n",
       "      <td>2020-10-10</td>\n",
       "      <td>здоров</td>\n",
       "    </tr>\n",
       "    <tr>\n",
       "      <th>3</th>\n",
       "      <td>[ТАРАСОВ, ГАВРИИЛ, ТИХОНОВИЧ]</td>\n",
       "      <td>1942-04-11 00:00:00</td>\n",
       "      <td>2020-10-20</td>\n",
       "      <td>Болен\\n</td>\n",
       "    </tr>\n",
       "    <tr>\n",
       "      <th>4</th>\n",
       "      <td>[ЗАВЬЯЛОВА, ЕЛЕНА, СТЕПАНОВНА]</td>\n",
       "      <td>2002-09-11 00:00:00</td>\n",
       "      <td>2020-10-20</td>\n",
       "      <td>болен</td>\n",
       "    </tr>\n",
       "  </tbody>\n",
       "</table>\n",
       "</div>"
      ],
      "text/plain": [
       "                                 ФИО                   ДР Дата Осмотра  \\\n",
       "0        [ФОМИЧЕВ, ГОРДЕЙ, НАУМОВИЧ]  2000-02-13 00:00:00   2020-10-10   \n",
       "1  [ХАРИТОНОВА, ВЕРОНИКА, ТАРАСОВНА]  1977-11-07 00:00:00   2020-10-10   \n",
       "2     [СОРОКИНА, АМЕЛИЯ, ТИМОФЕЕВНА]           12.09.1978   2020-10-10   \n",
       "3      [ТАРАСОВ, ГАВРИИЛ, ТИХОНОВИЧ]  1942-04-11 00:00:00   2020-10-20   \n",
       "4     [ЗАВЬЯЛОВА, ЕЛЕНА, СТЕПАНОВНА]  2002-09-11 00:00:00   2020-10-20   \n",
       "\n",
       "  Состояние  \n",
       "0   Болен\\n  \n",
       "1   здоров   \n",
       "2   здоров   \n",
       "3   Болен\\n  \n",
       "4     болен  "
      ]
     },
     "execution_count": 12,
     "metadata": {},
     "output_type": "execute_result"
    }
   ],
   "source": [
    "excel_data_df_mod.head(5)"
   ]
  },
  {
   "cell_type": "code",
   "execution_count": 13,
   "id": "d83ba42e",
   "metadata": {},
   "outputs": [],
   "source": [
    "# создадим новые колонки в df, выберем в них нужные значения из списка, полученного выше. \n",
    "excel_data_df_mod['Фамилия'], excel_data_df_mod['Имя'], excel_data_df_mod['Отчество']  = [i[0] for i in excel_data_df_mod['ФИО']], \\\n",
    "                                                                                         [i[1] for i in excel_data_df_mod['ФИО']], \\\n",
    "                                                                                         [i[2] for i in excel_data_df_mod['ФИО']]"
   ]
  },
  {
   "cell_type": "code",
   "execution_count": 14,
   "id": "2b0f4dec",
   "metadata": {},
   "outputs": [
    {
     "data": {
      "text/html": [
       "<div>\n",
       "<style scoped>\n",
       "    .dataframe tbody tr th:only-of-type {\n",
       "        vertical-align: middle;\n",
       "    }\n",
       "\n",
       "    .dataframe tbody tr th {\n",
       "        vertical-align: top;\n",
       "    }\n",
       "\n",
       "    .dataframe thead th {\n",
       "        text-align: right;\n",
       "    }\n",
       "</style>\n",
       "<table border=\"1\" class=\"dataframe\">\n",
       "  <thead>\n",
       "    <tr style=\"text-align: right;\">\n",
       "      <th></th>\n",
       "      <th>ФИО</th>\n",
       "      <th>ДР</th>\n",
       "      <th>Дата Осмотра</th>\n",
       "      <th>Состояние</th>\n",
       "      <th>Фамилия</th>\n",
       "      <th>Имя</th>\n",
       "      <th>Отчество</th>\n",
       "    </tr>\n",
       "  </thead>\n",
       "  <tbody>\n",
       "    <tr>\n",
       "      <th>0</th>\n",
       "      <td>[ФОМИЧЕВ, ГОРДЕЙ, НАУМОВИЧ]</td>\n",
       "      <td>2000-02-13 00:00:00</td>\n",
       "      <td>2020-10-10</td>\n",
       "      <td>Болен\\n</td>\n",
       "      <td>ФОМИЧЕВ</td>\n",
       "      <td>ГОРДЕЙ</td>\n",
       "      <td>НАУМОВИЧ</td>\n",
       "    </tr>\n",
       "    <tr>\n",
       "      <th>1</th>\n",
       "      <td>[ХАРИТОНОВА, ВЕРОНИКА, ТАРАСОВНА]</td>\n",
       "      <td>1977-11-07 00:00:00</td>\n",
       "      <td>2020-10-10</td>\n",
       "      <td>здоров</td>\n",
       "      <td>ХАРИТОНОВА</td>\n",
       "      <td>ВЕРОНИКА</td>\n",
       "      <td>ТАРАСОВНА</td>\n",
       "    </tr>\n",
       "    <tr>\n",
       "      <th>2</th>\n",
       "      <td>[СОРОКИНА, АМЕЛИЯ, ТИМОФЕЕВНА]</td>\n",
       "      <td>12.09.1978</td>\n",
       "      <td>2020-10-10</td>\n",
       "      <td>здоров</td>\n",
       "      <td>СОРОКИНА</td>\n",
       "      <td>АМЕЛИЯ</td>\n",
       "      <td>ТИМОФЕЕВНА</td>\n",
       "    </tr>\n",
       "    <tr>\n",
       "      <th>3</th>\n",
       "      <td>[ТАРАСОВ, ГАВРИИЛ, ТИХОНОВИЧ]</td>\n",
       "      <td>1942-04-11 00:00:00</td>\n",
       "      <td>2020-10-20</td>\n",
       "      <td>Болен\\n</td>\n",
       "      <td>ТАРАСОВ</td>\n",
       "      <td>ГАВРИИЛ</td>\n",
       "      <td>ТИХОНОВИЧ</td>\n",
       "    </tr>\n",
       "    <tr>\n",
       "      <th>4</th>\n",
       "      <td>[ЗАВЬЯЛОВА, ЕЛЕНА, СТЕПАНОВНА]</td>\n",
       "      <td>2002-09-11 00:00:00</td>\n",
       "      <td>2020-10-20</td>\n",
       "      <td>болен</td>\n",
       "      <td>ЗАВЬЯЛОВА</td>\n",
       "      <td>ЕЛЕНА</td>\n",
       "      <td>СТЕПАНОВНА</td>\n",
       "    </tr>\n",
       "  </tbody>\n",
       "</table>\n",
       "</div>"
      ],
      "text/plain": [
       "                                 ФИО                   ДР Дата Осмотра  \\\n",
       "0        [ФОМИЧЕВ, ГОРДЕЙ, НАУМОВИЧ]  2000-02-13 00:00:00   2020-10-10   \n",
       "1  [ХАРИТОНОВА, ВЕРОНИКА, ТАРАСОВНА]  1977-11-07 00:00:00   2020-10-10   \n",
       "2     [СОРОКИНА, АМЕЛИЯ, ТИМОФЕЕВНА]           12.09.1978   2020-10-10   \n",
       "3      [ТАРАСОВ, ГАВРИИЛ, ТИХОНОВИЧ]  1942-04-11 00:00:00   2020-10-20   \n",
       "4     [ЗАВЬЯЛОВА, ЕЛЕНА, СТЕПАНОВНА]  2002-09-11 00:00:00   2020-10-20   \n",
       "\n",
       "  Состояние     Фамилия       Имя    Отчество  \n",
       "0   Болен\\n     ФОМИЧЕВ    ГОРДЕЙ    НАУМОВИЧ  \n",
       "1   здоров   ХАРИТОНОВА  ВЕРОНИКА   ТАРАСОВНА  \n",
       "2   здоров     СОРОКИНА    АМЕЛИЯ  ТИМОФЕЕВНА  \n",
       "3   Болен\\n     ТАРАСОВ   ГАВРИИЛ   ТИХОНОВИЧ  \n",
       "4     болен   ЗАВЬЯЛОВА     ЕЛЕНА  СТЕПАНОВНА  "
      ]
     },
     "execution_count": 14,
     "metadata": {},
     "output_type": "execute_result"
    }
   ],
   "source": [
    "#проверим результат, колонку ФИО удалять не буду (df.drop(columns = 'column_1', axis = 1))\n",
    "excel_data_df_mod.head(5)"
   ]
  },
  {
   "cell_type": "code",
   "execution_count": 15,
   "id": "20ec2802",
   "metadata": {},
   "outputs": [],
   "source": [
    "#Лишнюю колонку удалить\n",
    "excel_data_df_mod = excel_data_df_mod.drop(columns = 'ФИО', axis = 1)"
   ]
  },
  {
   "cell_type": "code",
   "execution_count": 16,
   "id": "3b6b4306",
   "metadata": {},
   "outputs": [
    {
     "data": {
      "text/html": [
       "<div>\n",
       "<style scoped>\n",
       "    .dataframe tbody tr th:only-of-type {\n",
       "        vertical-align: middle;\n",
       "    }\n",
       "\n",
       "    .dataframe tbody tr th {\n",
       "        vertical-align: top;\n",
       "    }\n",
       "\n",
       "    .dataframe thead th {\n",
       "        text-align: right;\n",
       "    }\n",
       "</style>\n",
       "<table border=\"1\" class=\"dataframe\">\n",
       "  <thead>\n",
       "    <tr style=\"text-align: right;\">\n",
       "      <th></th>\n",
       "      <th>ДР</th>\n",
       "      <th>Дата Осмотра</th>\n",
       "      <th>Состояние</th>\n",
       "      <th>Фамилия</th>\n",
       "      <th>Имя</th>\n",
       "      <th>Отчество</th>\n",
       "    </tr>\n",
       "  </thead>\n",
       "  <tbody>\n",
       "    <tr>\n",
       "      <th>0</th>\n",
       "      <td>2000-02-13 00:00:00</td>\n",
       "      <td>2020-10-10</td>\n",
       "      <td>Болен\\n</td>\n",
       "      <td>ФОМИЧЕВ</td>\n",
       "      <td>ГОРДЕЙ</td>\n",
       "      <td>НАУМОВИЧ</td>\n",
       "    </tr>\n",
       "    <tr>\n",
       "      <th>1</th>\n",
       "      <td>1977-11-07 00:00:00</td>\n",
       "      <td>2020-10-10</td>\n",
       "      <td>здоров</td>\n",
       "      <td>ХАРИТОНОВА</td>\n",
       "      <td>ВЕРОНИКА</td>\n",
       "      <td>ТАРАСОВНА</td>\n",
       "    </tr>\n",
       "    <tr>\n",
       "      <th>2</th>\n",
       "      <td>12.09.1978</td>\n",
       "      <td>2020-10-10</td>\n",
       "      <td>здоров</td>\n",
       "      <td>СОРОКИНА</td>\n",
       "      <td>АМЕЛИЯ</td>\n",
       "      <td>ТИМОФЕЕВНА</td>\n",
       "    </tr>\n",
       "    <tr>\n",
       "      <th>3</th>\n",
       "      <td>1942-04-11 00:00:00</td>\n",
       "      <td>2020-10-20</td>\n",
       "      <td>Болен\\n</td>\n",
       "      <td>ТАРАСОВ</td>\n",
       "      <td>ГАВРИИЛ</td>\n",
       "      <td>ТИХОНОВИЧ</td>\n",
       "    </tr>\n",
       "    <tr>\n",
       "      <th>4</th>\n",
       "      <td>2002-09-11 00:00:00</td>\n",
       "      <td>2020-10-20</td>\n",
       "      <td>болен</td>\n",
       "      <td>ЗАВЬЯЛОВА</td>\n",
       "      <td>ЕЛЕНА</td>\n",
       "      <td>СТЕПАНОВНА</td>\n",
       "    </tr>\n",
       "  </tbody>\n",
       "</table>\n",
       "</div>"
      ],
      "text/plain": [
       "                    ДР Дата Осмотра Состояние     Фамилия       Имя  \\\n",
       "0  2000-02-13 00:00:00   2020-10-10   Болен\\n     ФОМИЧЕВ    ГОРДЕЙ   \n",
       "1  1977-11-07 00:00:00   2020-10-10   здоров   ХАРИТОНОВА  ВЕРОНИКА   \n",
       "2           12.09.1978   2020-10-10   здоров     СОРОКИНА    АМЕЛИЯ   \n",
       "3  1942-04-11 00:00:00   2020-10-20   Болен\\n     ТАРАСОВ   ГАВРИИЛ   \n",
       "4  2002-09-11 00:00:00   2020-10-20     болен   ЗАВЬЯЛОВА     ЕЛЕНА   \n",
       "\n",
       "     Отчество  \n",
       "0    НАУМОВИЧ  \n",
       "1   ТАРАСОВНА  \n",
       "2  ТИМОФЕЕВНА  \n",
       "3   ТИХОНОВИЧ  \n",
       "4  СТЕПАНОВНА  "
      ]
     },
     "execution_count": 16,
     "metadata": {},
     "output_type": "execute_result"
    }
   ],
   "source": [
    "excel_data_df_mod.head()"
   ]
  },
  {
   "cell_type": "code",
   "execution_count": 17,
   "id": "fc43b1d7",
   "metadata": {},
   "outputs": [
    {
     "data": {
      "text/html": [
       "<div>\n",
       "<style scoped>\n",
       "    .dataframe tbody tr th:only-of-type {\n",
       "        vertical-align: middle;\n",
       "    }\n",
       "\n",
       "    .dataframe tbody tr th {\n",
       "        vertical-align: top;\n",
       "    }\n",
       "\n",
       "    .dataframe thead th {\n",
       "        text-align: right;\n",
       "    }\n",
       "</style>\n",
       "<table border=\"1\" class=\"dataframe\">\n",
       "  <thead>\n",
       "    <tr style=\"text-align: right;\">\n",
       "      <th></th>\n",
       "      <th>ДР</th>\n",
       "      <th>Дата Осмотра</th>\n",
       "      <th>Состояние</th>\n",
       "      <th>Фамилия</th>\n",
       "      <th>Имя</th>\n",
       "      <th>Отчество</th>\n",
       "    </tr>\n",
       "  </thead>\n",
       "  <tbody>\n",
       "    <tr>\n",
       "      <th>20159</th>\n",
       "      <td>1979-01-07 00:00:00</td>\n",
       "      <td>2020-10-10</td>\n",
       "      <td>Болен</td>\n",
       "      <td>КЛЮЕВ</td>\n",
       "      <td>ЕВГЕНИЙ</td>\n",
       "      <td>ЕВГЕНЬЕВИЧ</td>\n",
       "    </tr>\n",
       "    <tr>\n",
       "      <th>27376</th>\n",
       "      <td>1979-01-07 00:00:00</td>\n",
       "      <td>2020-10-20</td>\n",
       "      <td>Болен\\n</td>\n",
       "      <td>КЛЮЕВ</td>\n",
       "      <td>ЕВГЕНИЙ</td>\n",
       "      <td>ЕВГЕНЬЕВИЧ</td>\n",
       "    </tr>\n",
       "  </tbody>\n",
       "</table>\n",
       "</div>"
      ],
      "text/plain": [
       "                        ДР Дата Осмотра Состояние Фамилия      Имя    Отчество\n",
       "20159  1979-01-07 00:00:00   2020-10-10     Болен   КЛЮЕВ  ЕВГЕНИЙ  ЕВГЕНЬЕВИЧ\n",
       "27376  1979-01-07 00:00:00   2020-10-20   Болен\\n   КЛЮЕВ  ЕВГЕНИЙ  ЕВГЕНЬЕВИЧ"
      ]
     },
     "execution_count": 17,
     "metadata": {},
     "output_type": "execute_result"
    }
   ],
   "source": [
    "excel_data_df_mod.query(\"Фамилия=='КЛЮЕВ' and Имя=='ЕВГЕНИЙ' and Отчество=='ЕВГЕНЬЕВИЧ'\")"
   ]
  },
  {
   "cell_type": "markdown",
   "id": "95f58e5e",
   "metadata": {},
   "source": [
    "### Преобразование данных в колонке \"ДР\""
   ]
  },
  {
   "cell_type": "markdown",
   "id": "eacd6d2b",
   "metadata": {},
   "source": [
    "Привести формат данных в колонке \"ДР\" к дате"
   ]
  },
  {
   "cell_type": "code",
   "execution_count": 18,
   "id": "6c780781",
   "metadata": {},
   "outputs": [],
   "source": [
    "# дальше по заданию в отчет даты рождения надо выгружать в виде 'ММ/ДД/ГГГГ'\n",
    "excel_data_df_mod['ДР'] = [pd.to_datetime(i, dayfirst=True, infer_datetime_format=True).strftime(\"%#m/%#d/%Y\")  \\\n",
    "                                          if isinstance(i, str) \\\n",
    "                                          else i.strftime(\"%#m/%#d/%Y\") for i in excel_data_df_mod['ДР']]"
   ]
  },
  {
   "cell_type": "code",
   "execution_count": 19,
   "id": "b5ee6acf",
   "metadata": {},
   "outputs": [
    {
     "data": {
      "text/html": [
       "<div>\n",
       "<style scoped>\n",
       "    .dataframe tbody tr th:only-of-type {\n",
       "        vertical-align: middle;\n",
       "    }\n",
       "\n",
       "    .dataframe tbody tr th {\n",
       "        vertical-align: top;\n",
       "    }\n",
       "\n",
       "    .dataframe thead th {\n",
       "        text-align: right;\n",
       "    }\n",
       "</style>\n",
       "<table border=\"1\" class=\"dataframe\">\n",
       "  <thead>\n",
       "    <tr style=\"text-align: right;\">\n",
       "      <th></th>\n",
       "      <th>ДР</th>\n",
       "      <th>Дата Осмотра</th>\n",
       "      <th>Состояние</th>\n",
       "      <th>Фамилия</th>\n",
       "      <th>Имя</th>\n",
       "      <th>Отчество</th>\n",
       "    </tr>\n",
       "  </thead>\n",
       "  <tbody>\n",
       "    <tr>\n",
       "      <th>0</th>\n",
       "      <td>2/13/2000</td>\n",
       "      <td>2020-10-10</td>\n",
       "      <td>Болен\\n</td>\n",
       "      <td>ФОМИЧЕВ</td>\n",
       "      <td>ГОРДЕЙ</td>\n",
       "      <td>НАУМОВИЧ</td>\n",
       "    </tr>\n",
       "    <tr>\n",
       "      <th>1</th>\n",
       "      <td>11/7/1977</td>\n",
       "      <td>2020-10-10</td>\n",
       "      <td>здоров</td>\n",
       "      <td>ХАРИТОНОВА</td>\n",
       "      <td>ВЕРОНИКА</td>\n",
       "      <td>ТАРАСОВНА</td>\n",
       "    </tr>\n",
       "    <tr>\n",
       "      <th>2</th>\n",
       "      <td>9/12/1978</td>\n",
       "      <td>2020-10-10</td>\n",
       "      <td>здоров</td>\n",
       "      <td>СОРОКИНА</td>\n",
       "      <td>АМЕЛИЯ</td>\n",
       "      <td>ТИМОФЕЕВНА</td>\n",
       "    </tr>\n",
       "    <tr>\n",
       "      <th>3</th>\n",
       "      <td>4/11/1942</td>\n",
       "      <td>2020-10-20</td>\n",
       "      <td>Болен\\n</td>\n",
       "      <td>ТАРАСОВ</td>\n",
       "      <td>ГАВРИИЛ</td>\n",
       "      <td>ТИХОНОВИЧ</td>\n",
       "    </tr>\n",
       "    <tr>\n",
       "      <th>4</th>\n",
       "      <td>9/11/2002</td>\n",
       "      <td>2020-10-20</td>\n",
       "      <td>болен</td>\n",
       "      <td>ЗАВЬЯЛОВА</td>\n",
       "      <td>ЕЛЕНА</td>\n",
       "      <td>СТЕПАНОВНА</td>\n",
       "    </tr>\n",
       "    <tr>\n",
       "      <th>5</th>\n",
       "      <td>3/17/2011</td>\n",
       "      <td>2020-10-20</td>\n",
       "      <td>болен</td>\n",
       "      <td>КРУГЛОВ</td>\n",
       "      <td>ВАСИЛИЙ</td>\n",
       "      <td>ВАСИЛЬЕВИЧ</td>\n",
       "    </tr>\n",
       "    <tr>\n",
       "      <th>6</th>\n",
       "      <td>8/4/1941</td>\n",
       "      <td>2020-10-20</td>\n",
       "      <td>Болен\\n</td>\n",
       "      <td>МИНАЕВ</td>\n",
       "      <td>ПАВЕЛ</td>\n",
       "      <td>ТИХОНОВИЧ</td>\n",
       "    </tr>\n",
       "    <tr>\n",
       "      <th>7</th>\n",
       "      <td>9/22/1942</td>\n",
       "      <td>2020-10-20</td>\n",
       "      <td>Здоров</td>\n",
       "      <td>ПАВЛОВ</td>\n",
       "      <td>ДМИТРИЙ</td>\n",
       "      <td>КОРНЕЕВИЧ</td>\n",
       "    </tr>\n",
       "    <tr>\n",
       "      <th>8</th>\n",
       "      <td>11/14/1959</td>\n",
       "      <td>2020-10-10</td>\n",
       "      <td>Болен\\n</td>\n",
       "      <td>АРХИПОВ</td>\n",
       "      <td>ВЯЧЕСЛАВ</td>\n",
       "      <td>ВАЛЕРИЕВИЧ</td>\n",
       "    </tr>\n",
       "    <tr>\n",
       "      <th>9</th>\n",
       "      <td>3/17/1951</td>\n",
       "      <td>2020-10-10</td>\n",
       "      <td>Болен</td>\n",
       "      <td>ВЛАДИМИРОВ</td>\n",
       "      <td>ОЛЕГ</td>\n",
       "      <td>МИХАЙЛОВИЧ</td>\n",
       "    </tr>\n",
       "  </tbody>\n",
       "</table>\n",
       "</div>"
      ],
      "text/plain": [
       "           ДР Дата Осмотра Состояние     Фамилия       Имя    Отчество\n",
       "0   2/13/2000   2020-10-10   Болен\\n     ФОМИЧЕВ    ГОРДЕЙ    НАУМОВИЧ\n",
       "1   11/7/1977   2020-10-10   здоров   ХАРИТОНОВА  ВЕРОНИКА   ТАРАСОВНА\n",
       "2   9/12/1978   2020-10-10   здоров     СОРОКИНА    АМЕЛИЯ  ТИМОФЕЕВНА\n",
       "3   4/11/1942   2020-10-20   Болен\\n     ТАРАСОВ   ГАВРИИЛ   ТИХОНОВИЧ\n",
       "4   9/11/2002   2020-10-20     болен   ЗАВЬЯЛОВА     ЕЛЕНА  СТЕПАНОВНА\n",
       "5   3/17/2011   2020-10-20     болен     КРУГЛОВ   ВАСИЛИЙ  ВАСИЛЬЕВИЧ\n",
       "6    8/4/1941   2020-10-20   Болен\\n      МИНАЕВ     ПАВЕЛ   ТИХОНОВИЧ\n",
       "7   9/22/1942   2020-10-20    Здоров      ПАВЛОВ   ДМИТРИЙ   КОРНЕЕВИЧ\n",
       "8  11/14/1959   2020-10-10   Болен\\n     АРХИПОВ  ВЯЧЕСЛАВ  ВАЛЕРИЕВИЧ\n",
       "9   3/17/1951   2020-10-10     Болен  ВЛАДИМИРОВ      ОЛЕГ  МИХАЙЛОВИЧ"
      ]
     },
     "execution_count": 19,
     "metadata": {},
     "output_type": "execute_result"
    }
   ],
   "source": [
    "excel_data_df_mod.head(10)"
   ]
  },
  {
   "cell_type": "code",
   "execution_count": 20,
   "id": "ae43fefa",
   "metadata": {},
   "outputs": [
    {
     "data": {
      "text/html": [
       "<div>\n",
       "<style scoped>\n",
       "    .dataframe tbody tr th:only-of-type {\n",
       "        vertical-align: middle;\n",
       "    }\n",
       "\n",
       "    .dataframe tbody tr th {\n",
       "        vertical-align: top;\n",
       "    }\n",
       "\n",
       "    .dataframe thead th {\n",
       "        text-align: right;\n",
       "    }\n",
       "</style>\n",
       "<table border=\"1\" class=\"dataframe\">\n",
       "  <thead>\n",
       "    <tr style=\"text-align: right;\">\n",
       "      <th></th>\n",
       "      <th>ДР</th>\n",
       "      <th>Дата Осмотра</th>\n",
       "      <th>Состояние</th>\n",
       "      <th>Фамилия</th>\n",
       "      <th>Имя</th>\n",
       "      <th>Отчество</th>\n",
       "    </tr>\n",
       "  </thead>\n",
       "  <tbody>\n",
       "    <tr>\n",
       "      <th>20159</th>\n",
       "      <td>1/7/1979</td>\n",
       "      <td>2020-10-10</td>\n",
       "      <td>Болен</td>\n",
       "      <td>КЛЮЕВ</td>\n",
       "      <td>ЕВГЕНИЙ</td>\n",
       "      <td>ЕВГЕНЬЕВИЧ</td>\n",
       "    </tr>\n",
       "    <tr>\n",
       "      <th>27376</th>\n",
       "      <td>1/7/1979</td>\n",
       "      <td>2020-10-20</td>\n",
       "      <td>Болен\\n</td>\n",
       "      <td>КЛЮЕВ</td>\n",
       "      <td>ЕВГЕНИЙ</td>\n",
       "      <td>ЕВГЕНЬЕВИЧ</td>\n",
       "    </tr>\n",
       "  </tbody>\n",
       "</table>\n",
       "</div>"
      ],
      "text/plain": [
       "             ДР Дата Осмотра Состояние Фамилия      Имя    Отчество\n",
       "20159  1/7/1979   2020-10-10     Болен   КЛЮЕВ  ЕВГЕНИЙ  ЕВГЕНЬЕВИЧ\n",
       "27376  1/7/1979   2020-10-20   Болен\\n   КЛЮЕВ  ЕВГЕНИЙ  ЕВГЕНЬЕВИЧ"
      ]
     },
     "execution_count": 20,
     "metadata": {},
     "output_type": "execute_result"
    }
   ],
   "source": [
    "# не убирала раньше лидирующие 0 в датах, надо проверить, что не убрала корректные 0.\n",
    "excel_data_df_mod.query(\"Фамилия=='КЛЮЕВ' and Имя=='ЕВГЕНИЙ' and Отчество=='ЕВГЕНЬЕВИЧ'\")"
   ]
  },
  {
   "cell_type": "code",
   "execution_count": 21,
   "id": "90b4e48f",
   "metadata": {},
   "outputs": [
    {
     "data": {
      "text/plain": [
       "ДР                      object\n",
       "Дата Осмотра    datetime64[ns]\n",
       "Состояние               object\n",
       "Фамилия                 object\n",
       "Имя                     object\n",
       "Отчество                object\n",
       "dtype: object"
      ]
     },
     "execution_count": 21,
     "metadata": {},
     "output_type": "execute_result"
    }
   ],
   "source": [
    "# проверим тип данных\n",
    "excel_data_df_mod.dtypes"
   ]
  },
  {
   "cell_type": "markdown",
   "id": "5045fe0e",
   "metadata": {},
   "source": [
    "### Преобразование данных в колонке \"Дата Осмотра\""
   ]
  },
  {
   "cell_type": "code",
   "execution_count": 22,
   "id": "31902fda",
   "metadata": {},
   "outputs": [
    {
     "data": {
      "text/plain": [
       "Timestamp('2020-10-20 00:00:00')"
      ]
     },
     "execution_count": 22,
     "metadata": {},
     "output_type": "execute_result"
    }
   ],
   "source": [
    "# проверим максимальную дату осмотра, зафиксированного в df. ТЗ не противоречит. \n",
    "excel_data_df_mod['Дата Осмотра'].max()"
   ]
  },
  {
   "cell_type": "code",
   "execution_count": 23,
   "id": "33f84166",
   "metadata": {},
   "outputs": [
    {
     "data": {
      "text/plain": [
       "Timestamp('2020-10-10 00:00:00')"
      ]
     },
     "execution_count": 23,
     "metadata": {},
     "output_type": "execute_result"
    }
   ],
   "source": [
    "# проверим минимальную дату осмотра, зафиксированного в df. ТЗ не противоречит.\n",
    "excel_data_df_mod['Дата Осмотра'].min()"
   ]
  },
  {
   "cell_type": "code",
   "execution_count": 24,
   "id": "4f36adf8",
   "metadata": {},
   "outputs": [
    {
     "data": {
      "text/plain": [
       "array(['2020-10-10T00:00:00.000000000', '2020-10-20T00:00:00.000000000',\n",
       "       '2020-10-12T00:00:00.000000000'], dtype='datetime64[ns]')"
      ]
     },
     "execution_count": 24,
     "metadata": {},
     "output_type": "execute_result"
    }
   ],
   "source": [
    "# проверим уникальные значения\n",
    "excel_data_df_mod['Дата Осмотра'].unique()"
   ]
  },
  {
   "cell_type": "code",
   "execution_count": 25,
   "id": "7a15810b",
   "metadata": {},
   "outputs": [],
   "source": [
    "# изменит формат вывода даты как в ТЗ\n",
    "excel_data_df_mod['Дата Осмотра'] = [i.strftime(\"%d %b. \") for i in excel_data_df_mod['Дата Осмотра']]"
   ]
  },
  {
   "cell_type": "code",
   "execution_count": 26,
   "id": "240b6ece",
   "metadata": {},
   "outputs": [
    {
     "data": {
      "text/html": [
       "<div>\n",
       "<style scoped>\n",
       "    .dataframe tbody tr th:only-of-type {\n",
       "        vertical-align: middle;\n",
       "    }\n",
       "\n",
       "    .dataframe tbody tr th {\n",
       "        vertical-align: top;\n",
       "    }\n",
       "\n",
       "    .dataframe thead th {\n",
       "        text-align: right;\n",
       "    }\n",
       "</style>\n",
       "<table border=\"1\" class=\"dataframe\">\n",
       "  <thead>\n",
       "    <tr style=\"text-align: right;\">\n",
       "      <th></th>\n",
       "      <th>ДР</th>\n",
       "      <th>Дата Осмотра</th>\n",
       "      <th>Состояние</th>\n",
       "      <th>Фамилия</th>\n",
       "      <th>Имя</th>\n",
       "      <th>Отчество</th>\n",
       "    </tr>\n",
       "  </thead>\n",
       "  <tbody>\n",
       "    <tr>\n",
       "      <th>0</th>\n",
       "      <td>2/13/2000</td>\n",
       "      <td>10 Oct.</td>\n",
       "      <td>Болен\\n</td>\n",
       "      <td>ФОМИЧЕВ</td>\n",
       "      <td>ГОРДЕЙ</td>\n",
       "      <td>НАУМОВИЧ</td>\n",
       "    </tr>\n",
       "    <tr>\n",
       "      <th>1</th>\n",
       "      <td>11/7/1977</td>\n",
       "      <td>10 Oct.</td>\n",
       "      <td>здоров</td>\n",
       "      <td>ХАРИТОНОВА</td>\n",
       "      <td>ВЕРОНИКА</td>\n",
       "      <td>ТАРАСОВНА</td>\n",
       "    </tr>\n",
       "    <tr>\n",
       "      <th>2</th>\n",
       "      <td>9/12/1978</td>\n",
       "      <td>10 Oct.</td>\n",
       "      <td>здоров</td>\n",
       "      <td>СОРОКИНА</td>\n",
       "      <td>АМЕЛИЯ</td>\n",
       "      <td>ТИМОФЕЕВНА</td>\n",
       "    </tr>\n",
       "    <tr>\n",
       "      <th>3</th>\n",
       "      <td>4/11/1942</td>\n",
       "      <td>20 Oct.</td>\n",
       "      <td>Болен\\n</td>\n",
       "      <td>ТАРАСОВ</td>\n",
       "      <td>ГАВРИИЛ</td>\n",
       "      <td>ТИХОНОВИЧ</td>\n",
       "    </tr>\n",
       "    <tr>\n",
       "      <th>4</th>\n",
       "      <td>9/11/2002</td>\n",
       "      <td>20 Oct.</td>\n",
       "      <td>болен</td>\n",
       "      <td>ЗАВЬЯЛОВА</td>\n",
       "      <td>ЕЛЕНА</td>\n",
       "      <td>СТЕПАНОВНА</td>\n",
       "    </tr>\n",
       "  </tbody>\n",
       "</table>\n",
       "</div>"
      ],
      "text/plain": [
       "          ДР Дата Осмотра Состояние     Фамилия       Имя    Отчество\n",
       "0  2/13/2000     10 Oct.    Болен\\n     ФОМИЧЕВ    ГОРДЕЙ    НАУМОВИЧ\n",
       "1  11/7/1977     10 Oct.    здоров   ХАРИТОНОВА  ВЕРОНИКА   ТАРАСОВНА\n",
       "2  9/12/1978     10 Oct.    здоров     СОРОКИНА    АМЕЛИЯ  ТИМОФЕЕВНА\n",
       "3  4/11/1942     20 Oct.    Болен\\n     ТАРАСОВ   ГАВРИИЛ   ТИХОНОВИЧ\n",
       "4  9/11/2002     20 Oct.      болен   ЗАВЬЯЛОВА     ЕЛЕНА  СТЕПАНОВНА"
      ]
     },
     "execution_count": 26,
     "metadata": {},
     "output_type": "execute_result"
    }
   ],
   "source": [
    "excel_data_df_mod.head(5)"
   ]
  },
  {
   "cell_type": "markdown",
   "id": "d12734f5",
   "metadata": {},
   "source": [
    "### Преобразование данных в колонке \"Состояние\""
   ]
  },
  {
   "cell_type": "code",
   "execution_count": 27,
   "id": "85d7c40b",
   "metadata": {},
   "outputs": [
    {
     "data": {
      "text/plain": [
       "array(['Болен\\n', ' здоров ', 'болен', 'Здоров', 'Болен', ' здоров'],\n",
       "      dtype=object)"
      ]
     },
     "execution_count": 27,
     "metadata": {},
     "output_type": "execute_result"
    }
   ],
   "source": [
    "#посмотрим, что лежит в колонке 'Состояние'. Должно быть немного вариантов заполнения\n",
    "excel_data_df_mod['Состояние'].unique()"
   ]
  },
  {
   "cell_type": "markdown",
   "id": "178845c7",
   "metadata": {},
   "source": [
    "В поле \"Состояние\" убрать  перенос '\\n', пробелы лишние, привести к одному виду оформление текста"
   ]
  },
  {
   "cell_type": "code",
   "execution_count": 28,
   "id": "3bcdbbfc",
   "metadata": {},
   "outputs": [],
   "source": [
    "# заменила перенос на '', удалила лишние пробелы в начале и конце строки\n",
    "excel_data_df_mod['Состояние'] = excel_data_df_mod['Состояние']. \\\n",
    "                                 apply(lambda x: x.replace(\"/n'\",''). \\\n",
    "                                 replace(\" \",'').strip().title()) "
   ]
  },
  {
   "cell_type": "code",
   "execution_count": 29,
   "id": "8a811177",
   "metadata": {},
   "outputs": [
    {
     "data": {
      "text/plain": [
       "array(['Болен', 'Здоров'], dtype=object)"
      ]
     },
     "execution_count": 29,
     "metadata": {},
     "output_type": "execute_result"
    }
   ],
   "source": [
    "# Проверим результат преобразования\n",
    "excel_data_df_mod['Состояние'].unique()"
   ]
  },
  {
   "cell_type": "code",
   "execution_count": 30,
   "id": "9984904d",
   "metadata": {},
   "outputs": [
    {
     "data": {
      "text/html": [
       "<div>\n",
       "<style scoped>\n",
       "    .dataframe tbody tr th:only-of-type {\n",
       "        vertical-align: middle;\n",
       "    }\n",
       "\n",
       "    .dataframe tbody tr th {\n",
       "        vertical-align: top;\n",
       "    }\n",
       "\n",
       "    .dataframe thead th {\n",
       "        text-align: right;\n",
       "    }\n",
       "</style>\n",
       "<table border=\"1\" class=\"dataframe\">\n",
       "  <thead>\n",
       "    <tr style=\"text-align: right;\">\n",
       "      <th></th>\n",
       "      <th>ДР</th>\n",
       "      <th>Дата Осмотра</th>\n",
       "      <th>Состояние</th>\n",
       "      <th>Фамилия</th>\n",
       "      <th>Имя</th>\n",
       "      <th>Отчество</th>\n",
       "    </tr>\n",
       "  </thead>\n",
       "  <tbody>\n",
       "    <tr>\n",
       "      <th>0</th>\n",
       "      <td>2/13/2000</td>\n",
       "      <td>10 Oct.</td>\n",
       "      <td>Болен</td>\n",
       "      <td>ФОМИЧЕВ</td>\n",
       "      <td>ГОРДЕЙ</td>\n",
       "      <td>НАУМОВИЧ</td>\n",
       "    </tr>\n",
       "    <tr>\n",
       "      <th>1</th>\n",
       "      <td>11/7/1977</td>\n",
       "      <td>10 Oct.</td>\n",
       "      <td>Здоров</td>\n",
       "      <td>ХАРИТОНОВА</td>\n",
       "      <td>ВЕРОНИКА</td>\n",
       "      <td>ТАРАСОВНА</td>\n",
       "    </tr>\n",
       "    <tr>\n",
       "      <th>2</th>\n",
       "      <td>9/12/1978</td>\n",
       "      <td>10 Oct.</td>\n",
       "      <td>Здоров</td>\n",
       "      <td>СОРОКИНА</td>\n",
       "      <td>АМЕЛИЯ</td>\n",
       "      <td>ТИМОФЕЕВНА</td>\n",
       "    </tr>\n",
       "    <tr>\n",
       "      <th>3</th>\n",
       "      <td>4/11/1942</td>\n",
       "      <td>20 Oct.</td>\n",
       "      <td>Болен</td>\n",
       "      <td>ТАРАСОВ</td>\n",
       "      <td>ГАВРИИЛ</td>\n",
       "      <td>ТИХОНОВИЧ</td>\n",
       "    </tr>\n",
       "    <tr>\n",
       "      <th>4</th>\n",
       "      <td>9/11/2002</td>\n",
       "      <td>20 Oct.</td>\n",
       "      <td>Болен</td>\n",
       "      <td>ЗАВЬЯЛОВА</td>\n",
       "      <td>ЕЛЕНА</td>\n",
       "      <td>СТЕПАНОВНА</td>\n",
       "    </tr>\n",
       "  </tbody>\n",
       "</table>\n",
       "</div>"
      ],
      "text/plain": [
       "          ДР Дата Осмотра Состояние     Фамилия       Имя    Отчество\n",
       "0  2/13/2000     10 Oct.      Болен     ФОМИЧЕВ    ГОРДЕЙ    НАУМОВИЧ\n",
       "1  11/7/1977     10 Oct.     Здоров  ХАРИТОНОВА  ВЕРОНИКА   ТАРАСОВНА\n",
       "2  9/12/1978     10 Oct.     Здоров    СОРОКИНА    АМЕЛИЯ  ТИМОФЕЕВНА\n",
       "3  4/11/1942     20 Oct.      Болен     ТАРАСОВ   ГАВРИИЛ   ТИХОНОВИЧ\n",
       "4  9/11/2002     20 Oct.      Болен   ЗАВЬЯЛОВА     ЕЛЕНА  СТЕПАНОВНА"
      ]
     },
     "execution_count": 30,
     "metadata": {},
     "output_type": "execute_result"
    }
   ],
   "source": [
    "excel_data_df_mod.head(5)"
   ]
  },
  {
   "cell_type": "code",
   "execution_count": 31,
   "id": "2a815494",
   "metadata": {},
   "outputs": [
    {
     "data": {
      "text/plain": [
       "True"
      ]
     },
     "execution_count": 31,
     "metadata": {},
     "output_type": "execute_result"
    }
   ],
   "source": [
    "excel_data_df.shape[0] == excel_data_df_mod.shape[0]"
   ]
  },
  {
   "cell_type": "markdown",
   "id": "c22d2b9b",
   "metadata": {},
   "source": [
    "### Определим пол человека"
   ]
  },
  {
   "cell_type": "code",
   "execution_count": 32,
   "id": "ef893b8b",
   "metadata": {},
   "outputs": [],
   "source": [
    "# Для определения пола будем использовать отчество. Хотя это явно нерабочий вариант для иностранных имен."
   ]
  },
  {
   "cell_type": "code",
   "execution_count": 33,
   "id": "132b514c",
   "metadata": {},
   "outputs": [
    {
     "name": "stdout",
     "output_type": "stream",
     "text": [
      "{'ИЧ', 'НА'}\n"
     ]
    }
   ],
   "source": [
    "# посмотрим уникальные окончания отчеств списка людей. Для всех людей с отчеством оканчивающимся на 'ИЧ' укажем пол мужской,\n",
    "# для людей, чье отчество заканчивается на 'на' - женский. Остальных пропустим, увидим в сводной таблице\n",
    "print(set([i[-2:]for i in excel_data_df_mod['Отчество']]))"
   ]
  },
  {
   "cell_type": "code",
   "execution_count": 34,
   "id": "86bd38d2",
   "metadata": {},
   "outputs": [],
   "source": [
    "excel_data_df_mod['Пол'] = ['муж' if i[-2:] == 'ИЧ' else 'жен' for i in excel_data_df_mod['Отчество']]"
   ]
  },
  {
   "cell_type": "code",
   "execution_count": 35,
   "id": "69c5f197",
   "metadata": {},
   "outputs": [
    {
     "data": {
      "text/html": [
       "<div>\n",
       "<style scoped>\n",
       "    .dataframe tbody tr th:only-of-type {\n",
       "        vertical-align: middle;\n",
       "    }\n",
       "\n",
       "    .dataframe tbody tr th {\n",
       "        vertical-align: top;\n",
       "    }\n",
       "\n",
       "    .dataframe thead th {\n",
       "        text-align: right;\n",
       "    }\n",
       "</style>\n",
       "<table border=\"1\" class=\"dataframe\">\n",
       "  <thead>\n",
       "    <tr style=\"text-align: right;\">\n",
       "      <th></th>\n",
       "      <th>ДР</th>\n",
       "      <th>Дата Осмотра</th>\n",
       "      <th>Состояние</th>\n",
       "      <th>Фамилия</th>\n",
       "      <th>Имя</th>\n",
       "      <th>Отчество</th>\n",
       "      <th>Пол</th>\n",
       "    </tr>\n",
       "  </thead>\n",
       "  <tbody>\n",
       "    <tr>\n",
       "      <th>0</th>\n",
       "      <td>2/13/2000</td>\n",
       "      <td>10 Oct.</td>\n",
       "      <td>Болен</td>\n",
       "      <td>ФОМИЧЕВ</td>\n",
       "      <td>ГОРДЕЙ</td>\n",
       "      <td>НАУМОВИЧ</td>\n",
       "      <td>муж</td>\n",
       "    </tr>\n",
       "    <tr>\n",
       "      <th>1</th>\n",
       "      <td>11/7/1977</td>\n",
       "      <td>10 Oct.</td>\n",
       "      <td>Здоров</td>\n",
       "      <td>ХАРИТОНОВА</td>\n",
       "      <td>ВЕРОНИКА</td>\n",
       "      <td>ТАРАСОВНА</td>\n",
       "      <td>жен</td>\n",
       "    </tr>\n",
       "    <tr>\n",
       "      <th>2</th>\n",
       "      <td>9/12/1978</td>\n",
       "      <td>10 Oct.</td>\n",
       "      <td>Здоров</td>\n",
       "      <td>СОРОКИНА</td>\n",
       "      <td>АМЕЛИЯ</td>\n",
       "      <td>ТИМОФЕЕВНА</td>\n",
       "      <td>жен</td>\n",
       "    </tr>\n",
       "    <tr>\n",
       "      <th>3</th>\n",
       "      <td>4/11/1942</td>\n",
       "      <td>20 Oct.</td>\n",
       "      <td>Болен</td>\n",
       "      <td>ТАРАСОВ</td>\n",
       "      <td>ГАВРИИЛ</td>\n",
       "      <td>ТИХОНОВИЧ</td>\n",
       "      <td>муж</td>\n",
       "    </tr>\n",
       "    <tr>\n",
       "      <th>4</th>\n",
       "      <td>9/11/2002</td>\n",
       "      <td>20 Oct.</td>\n",
       "      <td>Болен</td>\n",
       "      <td>ЗАВЬЯЛОВА</td>\n",
       "      <td>ЕЛЕНА</td>\n",
       "      <td>СТЕПАНОВНА</td>\n",
       "      <td>жен</td>\n",
       "    </tr>\n",
       "  </tbody>\n",
       "</table>\n",
       "</div>"
      ],
      "text/plain": [
       "          ДР Дата Осмотра Состояние     Фамилия       Имя    Отчество  Пол\n",
       "0  2/13/2000     10 Oct.      Болен     ФОМИЧЕВ    ГОРДЕЙ    НАУМОВИЧ  муж\n",
       "1  11/7/1977     10 Oct.     Здоров  ХАРИТОНОВА  ВЕРОНИКА   ТАРАСОВНА  жен\n",
       "2  9/12/1978     10 Oct.     Здоров    СОРОКИНА    АМЕЛИЯ  ТИМОФЕЕВНА  жен\n",
       "3  4/11/1942     20 Oct.      Болен     ТАРАСОВ   ГАВРИИЛ   ТИХОНОВИЧ  муж\n",
       "4  9/11/2002     20 Oct.      Болен   ЗАВЬЯЛОВА     ЕЛЕНА  СТЕПАНОВНА  жен"
      ]
     },
     "execution_count": 35,
     "metadata": {},
     "output_type": "execute_result"
    }
   ],
   "source": [
    "excel_data_df_mod.head()"
   ]
  },
  {
   "cell_type": "code",
   "execution_count": 36,
   "id": "713399b9",
   "metadata": {},
   "outputs": [
    {
     "data": {
      "text/plain": [
       "array(['муж', 'жен'], dtype=object)"
      ]
     },
     "execution_count": 36,
     "metadata": {},
     "output_type": "execute_result"
    }
   ],
   "source": [
    "excel_data_df_mod['Пол'].unique()"
   ]
  },
  {
   "cell_type": "markdown",
   "id": "480e2855",
   "metadata": {},
   "source": [
    "### Сводная таблица по больным"
   ]
  },
  {
   "cell_type": "code",
   "execution_count": 37,
   "id": "2e6e2a70",
   "metadata": {},
   "outputs": [
    {
     "data": {
      "text/html": [
       "<div>\n",
       "<style scoped>\n",
       "    .dataframe tbody tr th:only-of-type {\n",
       "        vertical-align: middle;\n",
       "    }\n",
       "\n",
       "    .dataframe tbody tr th {\n",
       "        vertical-align: top;\n",
       "    }\n",
       "\n",
       "    .dataframe thead th {\n",
       "        text-align: right;\n",
       "    }\n",
       "</style>\n",
       "<table border=\"1\" class=\"dataframe\">\n",
       "  <thead>\n",
       "    <tr style=\"text-align: right;\">\n",
       "      <th></th>\n",
       "      <th>Дата Осмотра</th>\n",
       "      <th>Пол</th>\n",
       "      <th>Фамилия</th>\n",
       "    </tr>\n",
       "  </thead>\n",
       "  <tbody>\n",
       "    <tr>\n",
       "      <th>0</th>\n",
       "      <td>10 Oct.</td>\n",
       "      <td>жен</td>\n",
       "      <td>4985</td>\n",
       "    </tr>\n",
       "    <tr>\n",
       "      <th>1</th>\n",
       "      <td>10 Oct.</td>\n",
       "      <td>муж</td>\n",
       "      <td>4934</td>\n",
       "    </tr>\n",
       "    <tr>\n",
       "      <th>2</th>\n",
       "      <td>12 Oct.</td>\n",
       "      <td>жен</td>\n",
       "      <td>1261</td>\n",
       "    </tr>\n",
       "    <tr>\n",
       "      <th>3</th>\n",
       "      <td>12 Oct.</td>\n",
       "      <td>муж</td>\n",
       "      <td>1249</td>\n",
       "    </tr>\n",
       "    <tr>\n",
       "      <th>4</th>\n",
       "      <td>20 Oct.</td>\n",
       "      <td>жен</td>\n",
       "      <td>2251</td>\n",
       "    </tr>\n",
       "  </tbody>\n",
       "</table>\n",
       "</div>"
      ],
      "text/plain": [
       "  Дата Осмотра  Пол  Фамилия\n",
       "0     10 Oct.   жен     4985\n",
       "1     10 Oct.   муж     4934\n",
       "2     12 Oct.   жен     1261\n",
       "3     12 Oct.   муж     1249\n",
       "4     20 Oct.   жен     2251"
      ]
     },
     "execution_count": 37,
     "metadata": {},
     "output_type": "execute_result"
    }
   ],
   "source": [
    "#Запишем df для создания сводной таблицы.\n",
    "df_for_pivot = excel_data_df_mod.query(\"Состояние == 'Болен'\"). \\\n",
    "                                 groupby(['Дата Осмотра', 'Пол'], as_index = False). \\\n",
    "                                 agg({'Фамилия':'count'})\n",
    "df_for_pivot.head()"
   ]
  },
  {
   "cell_type": "code",
   "execution_count": 38,
   "id": "f7c7196f",
   "metadata": {},
   "outputs": [
    {
     "data": {
      "text/plain": [
       "Дата Осмотра    object\n",
       "Пол             object\n",
       "Фамилия          int64\n",
       "dtype: object"
      ]
     },
     "execution_count": 38,
     "metadata": {},
     "output_type": "execute_result"
    }
   ],
   "source": [
    "df_for_pivot.dtypes"
   ]
  },
  {
   "cell_type": "code",
   "execution_count": 39,
   "id": "95c1653b",
   "metadata": {},
   "outputs": [],
   "source": [
    "pivot_table = df_for_pivot.pivot_table(index = 'Пол', columns = 'Дата Осмотра', \\\n",
    "                                       values = 'Фамилия', aggfunc = 'sum',      \\\n",
    "                                       margins=True, margins_name = 'Всего').     \\\n",
    "                                       drop('Всего', axis=1)"
   ]
  },
  {
   "cell_type": "code",
   "execution_count": 40,
   "id": "66aa07e6",
   "metadata": {},
   "outputs": [
    {
     "data": {
      "text/html": [
       "<div>\n",
       "<style scoped>\n",
       "    .dataframe tbody tr th:only-of-type {\n",
       "        vertical-align: middle;\n",
       "    }\n",
       "\n",
       "    .dataframe tbody tr th {\n",
       "        vertical-align: top;\n",
       "    }\n",
       "\n",
       "    .dataframe thead th {\n",
       "        text-align: right;\n",
       "    }\n",
       "</style>\n",
       "<table border=\"1\" class=\"dataframe\">\n",
       "  <thead>\n",
       "    <tr style=\"text-align: right;\">\n",
       "      <th>Дата Осмотра</th>\n",
       "      <th>10 Oct.</th>\n",
       "      <th>12 Oct.</th>\n",
       "      <th>20 Oct.</th>\n",
       "    </tr>\n",
       "    <tr>\n",
       "      <th>Пол</th>\n",
       "      <th></th>\n",
       "      <th></th>\n",
       "      <th></th>\n",
       "    </tr>\n",
       "  </thead>\n",
       "  <tbody>\n",
       "    <tr>\n",
       "      <th>жен</th>\n",
       "      <td>4985</td>\n",
       "      <td>1261</td>\n",
       "      <td>2251</td>\n",
       "    </tr>\n",
       "    <tr>\n",
       "      <th>муж</th>\n",
       "      <td>4934</td>\n",
       "      <td>1249</td>\n",
       "      <td>2129</td>\n",
       "    </tr>\n",
       "    <tr>\n",
       "      <th>Всего</th>\n",
       "      <td>9919</td>\n",
       "      <td>2510</td>\n",
       "      <td>4380</td>\n",
       "    </tr>\n",
       "  </tbody>\n",
       "</table>\n",
       "</div>"
      ],
      "text/plain": [
       "Дата Осмотра  10 Oct.   12 Oct.   20 Oct. \n",
       "Пол                                       \n",
       "жен               4985      1261      2251\n",
       "муж               4934      1249      2129\n",
       "Всего             9919      2510      4380"
      ]
     },
     "execution_count": 40,
     "metadata": {},
     "output_type": "execute_result"
    }
   ],
   "source": [
    "# Есть расхождения с ТЗ по виду по шапки\n",
    "pivot_table"
   ]
  },
  {
   "cell_type": "markdown",
   "id": "1c850866",
   "metadata": {},
   "source": [
    "### Заполнение листа \"Отчет\""
   ]
  },
  {
   "cell_type": "code",
   "execution_count": 41,
   "id": "e2fa5f61",
   "metadata": {},
   "outputs": [
    {
     "data": {
      "text/html": [
       "<div>\n",
       "<style scoped>\n",
       "    .dataframe tbody tr th:only-of-type {\n",
       "        vertical-align: middle;\n",
       "    }\n",
       "\n",
       "    .dataframe tbody tr th {\n",
       "        vertical-align: top;\n",
       "    }\n",
       "\n",
       "    .dataframe thead th {\n",
       "        text-align: right;\n",
       "    }\n",
       "</style>\n",
       "<table border=\"1\" class=\"dataframe\">\n",
       "  <thead>\n",
       "    <tr style=\"text-align: right;\">\n",
       "      <th></th>\n",
       "      <th>ДР</th>\n",
       "      <th>Дата Осмотра</th>\n",
       "      <th>Состояние</th>\n",
       "      <th>Фамилия</th>\n",
       "      <th>Имя</th>\n",
       "      <th>Отчество</th>\n",
       "      <th>Пол</th>\n",
       "    </tr>\n",
       "  </thead>\n",
       "  <tbody>\n",
       "    <tr>\n",
       "      <th>0</th>\n",
       "      <td>2/13/2000</td>\n",
       "      <td>10 Oct.</td>\n",
       "      <td>Болен</td>\n",
       "      <td>ФОМИЧЕВ</td>\n",
       "      <td>ГОРДЕЙ</td>\n",
       "      <td>НАУМОВИЧ</td>\n",
       "      <td>муж</td>\n",
       "    </tr>\n",
       "    <tr>\n",
       "      <th>1</th>\n",
       "      <td>11/7/1977</td>\n",
       "      <td>10 Oct.</td>\n",
       "      <td>Здоров</td>\n",
       "      <td>ХАРИТОНОВА</td>\n",
       "      <td>ВЕРОНИКА</td>\n",
       "      <td>ТАРАСОВНА</td>\n",
       "      <td>жен</td>\n",
       "    </tr>\n",
       "    <tr>\n",
       "      <th>2</th>\n",
       "      <td>9/12/1978</td>\n",
       "      <td>10 Oct.</td>\n",
       "      <td>Здоров</td>\n",
       "      <td>СОРОКИНА</td>\n",
       "      <td>АМЕЛИЯ</td>\n",
       "      <td>ТИМОФЕЕВНА</td>\n",
       "      <td>жен</td>\n",
       "    </tr>\n",
       "    <tr>\n",
       "      <th>3</th>\n",
       "      <td>4/11/1942</td>\n",
       "      <td>20 Oct.</td>\n",
       "      <td>Болен</td>\n",
       "      <td>ТАРАСОВ</td>\n",
       "      <td>ГАВРИИЛ</td>\n",
       "      <td>ТИХОНОВИЧ</td>\n",
       "      <td>муж</td>\n",
       "    </tr>\n",
       "    <tr>\n",
       "      <th>4</th>\n",
       "      <td>9/11/2002</td>\n",
       "      <td>20 Oct.</td>\n",
       "      <td>Болен</td>\n",
       "      <td>ЗАВЬЯЛОВА</td>\n",
       "      <td>ЕЛЕНА</td>\n",
       "      <td>СТЕПАНОВНА</td>\n",
       "      <td>жен</td>\n",
       "    </tr>\n",
       "  </tbody>\n",
       "</table>\n",
       "</div>"
      ],
      "text/plain": [
       "          ДР Дата Осмотра Состояние     Фамилия       Имя    Отчество  Пол\n",
       "0  2/13/2000     10 Oct.      Болен     ФОМИЧЕВ    ГОРДЕЙ    НАУМОВИЧ  муж\n",
       "1  11/7/1977     10 Oct.     Здоров  ХАРИТОНОВА  ВЕРОНИКА   ТАРАСОВНА  жен\n",
       "2  9/12/1978     10 Oct.     Здоров    СОРОКИНА    АМЕЛИЯ  ТИМОФЕЕВНА  жен\n",
       "3  4/11/1942     20 Oct.      Болен     ТАРАСОВ   ГАВРИИЛ   ТИХОНОВИЧ  муж\n",
       "4  9/11/2002     20 Oct.      Болен   ЗАВЬЯЛОВА     ЕЛЕНА  СТЕПАНОВНА  жен"
      ]
     },
     "execution_count": 41,
     "metadata": {},
     "output_type": "execute_result"
    }
   ],
   "source": [
    "# задание реализовано в ноутбуке. Форма отличается от ТЗ. Далее выгрузим ее для адаптизации формы по требования\n",
    "excel_data_df_mod.head()"
   ]
  },
  {
   "cell_type": "code",
   "execution_count": 64,
   "id": "d3debe19",
   "metadata": {},
   "outputs": [
    {
     "data": {
      "text/plain": [
       "['ДР', 'Дата Осмотра', 'Состояние', 'Фамилия', 'Имя', 'Отчество', 'Пол']"
      ]
     },
     "execution_count": 64,
     "metadata": {},
     "output_type": "execute_result"
    }
   ],
   "source": [
    "list(excel_data_df_mod)"
   ]
  },
  {
   "cell_type": "code",
   "execution_count": 65,
   "id": "6002c44d",
   "metadata": {},
   "outputs": [],
   "source": [
    "df_report = excel_data_df_mod.pivot_table(index = ['Фамилия', 'Имя', 'Отчество'], columns = ['Дата Осмотра'], values = ['Состояние'], aggfunc = 'max', fill_value= 'Здоров').reset_index()"
   ]
  },
  {
   "cell_type": "code",
   "execution_count": 66,
   "id": "c49ee918",
   "metadata": {},
   "outputs": [
    {
     "data": {
      "text/html": [
       "<div>\n",
       "<style scoped>\n",
       "    .dataframe tbody tr th:only-of-type {\n",
       "        vertical-align: middle;\n",
       "    }\n",
       "\n",
       "    .dataframe tbody tr th {\n",
       "        vertical-align: top;\n",
       "    }\n",
       "\n",
       "    .dataframe thead tr th {\n",
       "        text-align: left;\n",
       "    }\n",
       "</style>\n",
       "<table border=\"1\" class=\"dataframe\">\n",
       "  <thead>\n",
       "    <tr>\n",
       "      <th></th>\n",
       "      <th>Фамилия</th>\n",
       "      <th>Имя</th>\n",
       "      <th>Отчество</th>\n",
       "      <th colspan=\"3\" halign=\"left\">Состояние</th>\n",
       "    </tr>\n",
       "    <tr>\n",
       "      <th>Дата Осмотра</th>\n",
       "      <th></th>\n",
       "      <th></th>\n",
       "      <th></th>\n",
       "      <th>10 Oct.</th>\n",
       "      <th>12 Oct.</th>\n",
       "      <th>20 Oct.</th>\n",
       "    </tr>\n",
       "  </thead>\n",
       "  <tbody>\n",
       "    <tr>\n",
       "      <th>0</th>\n",
       "      <td>АВДЕЕВ</td>\n",
       "      <td>АРКАДИЙ</td>\n",
       "      <td>МАКСИМОВИЧ</td>\n",
       "      <td>Здоров</td>\n",
       "      <td>Здоров</td>\n",
       "      <td>Здоров</td>\n",
       "    </tr>\n",
       "    <tr>\n",
       "      <th>1</th>\n",
       "      <td>АВДЕЕВ</td>\n",
       "      <td>БОРИС</td>\n",
       "      <td>НАУМОВИЧ</td>\n",
       "      <td>Здоров</td>\n",
       "      <td>Здоров</td>\n",
       "      <td>Здоров</td>\n",
       "    </tr>\n",
       "    <tr>\n",
       "      <th>2</th>\n",
       "      <td>АВДЕЕВ</td>\n",
       "      <td>БОРИС</td>\n",
       "      <td>ЭДУАРДОВИЧ</td>\n",
       "      <td>Болен</td>\n",
       "      <td>Здоров</td>\n",
       "      <td>Здоров</td>\n",
       "    </tr>\n",
       "    <tr>\n",
       "      <th>3</th>\n",
       "      <td>АВДЕЕВ</td>\n",
       "      <td>ЕЛИСЕЙ</td>\n",
       "      <td>ДЕНИСОВИЧ</td>\n",
       "      <td>Здоров</td>\n",
       "      <td>Здоров</td>\n",
       "      <td>Болен</td>\n",
       "    </tr>\n",
       "    <tr>\n",
       "      <th>4</th>\n",
       "      <td>АВДЕЕВ</td>\n",
       "      <td>ЛЕОНИД</td>\n",
       "      <td>ВАСИЛЬЕВИЧ</td>\n",
       "      <td>Здоров</td>\n",
       "      <td>Здоров</td>\n",
       "      <td>Здоров</td>\n",
       "    </tr>\n",
       "    <tr>\n",
       "      <th>...</th>\n",
       "      <td>...</td>\n",
       "      <td>...</td>\n",
       "      <td>...</td>\n",
       "      <td>...</td>\n",
       "      <td>...</td>\n",
       "      <td>...</td>\n",
       "    </tr>\n",
       "    <tr>\n",
       "      <th>20239</th>\n",
       "      <td>ЯШИНА</td>\n",
       "      <td>КАТЕРИНА</td>\n",
       "      <td>ЭДУАРДОВНА</td>\n",
       "      <td>Здоров</td>\n",
       "      <td>Здоров</td>\n",
       "      <td>Здоров</td>\n",
       "    </tr>\n",
       "    <tr>\n",
       "      <th>20240</th>\n",
       "      <td>ЯШИНА</td>\n",
       "      <td>ЛИДИЯ</td>\n",
       "      <td>НИКОЛАЕВНА</td>\n",
       "      <td>Здоров</td>\n",
       "      <td>Здоров</td>\n",
       "      <td>Болен</td>\n",
       "    </tr>\n",
       "    <tr>\n",
       "      <th>20241</th>\n",
       "      <td>ЯШИНА</td>\n",
       "      <td>НАДЕЖДА</td>\n",
       "      <td>ТИМОФЕЕВНА</td>\n",
       "      <td>Здоров</td>\n",
       "      <td>Здоров</td>\n",
       "      <td>Здоров</td>\n",
       "    </tr>\n",
       "    <tr>\n",
       "      <th>20242</th>\n",
       "      <td>ЯШИНА</td>\n",
       "      <td>НИНА</td>\n",
       "      <td>ТИМОФЕЕВНА</td>\n",
       "      <td>Здоров</td>\n",
       "      <td>Здоров</td>\n",
       "      <td>Здоров</td>\n",
       "    </tr>\n",
       "    <tr>\n",
       "      <th>20243</th>\n",
       "      <td>ЯШИНА</td>\n",
       "      <td>СТЕФАНИЯ</td>\n",
       "      <td>ЕВГЕНЬЕВНА</td>\n",
       "      <td>Болен</td>\n",
       "      <td>Здоров</td>\n",
       "      <td>Здоров</td>\n",
       "    </tr>\n",
       "  </tbody>\n",
       "</table>\n",
       "<p>20244 rows × 6 columns</p>\n",
       "</div>"
      ],
      "text/plain": [
       "             Фамилия       Имя    Отчество Состояние                  \n",
       "Дата Осмотра                                10 Oct.  12 Oct.  20 Oct. \n",
       "0             АВДЕЕВ   АРКАДИЙ  МАКСИМОВИЧ    Здоров   Здоров   Здоров\n",
       "1             АВДЕЕВ     БОРИС    НАУМОВИЧ    Здоров   Здоров   Здоров\n",
       "2             АВДЕЕВ     БОРИС  ЭДУАРДОВИЧ     Болен   Здоров   Здоров\n",
       "3             АВДЕЕВ    ЕЛИСЕЙ   ДЕНИСОВИЧ    Здоров   Здоров    Болен\n",
       "4             АВДЕЕВ    ЛЕОНИД  ВАСИЛЬЕВИЧ    Здоров   Здоров   Здоров\n",
       "...              ...       ...         ...       ...      ...      ...\n",
       "20239          ЯШИНА  КАТЕРИНА  ЭДУАРДОВНА    Здоров   Здоров   Здоров\n",
       "20240          ЯШИНА     ЛИДИЯ  НИКОЛАЕВНА    Здоров   Здоров    Болен\n",
       "20241          ЯШИНА   НАДЕЖДА  ТИМОФЕЕВНА    Здоров   Здоров   Здоров\n",
       "20242          ЯШИНА      НИНА  ТИМОФЕЕВНА    Здоров   Здоров   Здоров\n",
       "20243          ЯШИНА  СТЕФАНИЯ  ЕВГЕНЬЕВНА     Болен   Здоров   Здоров\n",
       "\n",
       "[20244 rows x 6 columns]"
      ]
     },
     "execution_count": 66,
     "metadata": {},
     "output_type": "execute_result"
    }
   ],
   "source": [
    "df_report"
   ]
  },
  {
   "cell_type": "code",
   "execution_count": 67,
   "id": "9adad7bf",
   "metadata": {},
   "outputs": [],
   "source": [
    "from openpyxl import Workbook"
   ]
  },
  {
   "cell_type": "code",
   "execution_count": 72,
   "id": "e744816f",
   "metadata": {},
   "outputs": [],
   "source": [
    "path_report = '/Users/naukh/Тестовые АД/report_3.xlsx'"
   ]
  },
  {
   "cell_type": "code",
   "execution_count": 73,
   "id": "a877615c",
   "metadata": {},
   "outputs": [],
   "source": [
    "writer = pd.ExcelWriter(path_report) "
   ]
  },
  {
   "cell_type": "code",
   "execution_count": 74,
   "id": "e7a54457",
   "metadata": {},
   "outputs": [],
   "source": [
    "df_report.to_excel(writer)"
   ]
  },
  {
   "cell_type": "code",
   "execution_count": 75,
   "id": "8d8a5d17",
   "metadata": {},
   "outputs": [],
   "source": [
    "writer.save()"
   ]
  },
  {
   "cell_type": "code",
   "execution_count": null,
   "id": "d8cd94cc",
   "metadata": {},
   "outputs": [],
   "source": []
  }
 ],
 "metadata": {
  "kernelspec": {
   "display_name": "Python 3 (ipykernel)",
   "language": "python",
   "name": "python3"
  },
  "language_info": {
   "codemirror_mode": {
    "name": "ipython",
    "version": 3
   },
   "file_extension": ".py",
   "mimetype": "text/x-python",
   "name": "python",
   "nbconvert_exporter": "python",
   "pygments_lexer": "ipython3",
   "version": "3.9.7"
  }
 },
 "nbformat": 4,
 "nbformat_minor": 5
}
